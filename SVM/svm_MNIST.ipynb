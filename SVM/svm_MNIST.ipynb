{
 "cells": [
  {
   "cell_type": "markdown",
   "metadata": {},
   "source": [
    "#### SVM算法应用于MNIST数据集"
   ]
  },
  {
   "cell_type": "code",
   "execution_count": 6,
   "metadata": {},
   "outputs": [],
   "source": [
    "# 下载MNIST数据集\n",
    "import torch\n",
    "# transforms对图像进行预处理和数据增强\n",
    "#   归一化(Normalization)\n",
    "#   调整大小(Resize)\n",
    "#   数据增强(Augmentation，如翻转、裁剪、旋转等)\n",
    "#   转化为张量(Convert to Tensor)\n",
    "from torchvision import datasets, transforms\n",
    "\n",
    "# 定义数据预处理\n",
    "transform = transforms.Compose([\n",
    "    transforms.ToTensor(),\n",
    "    transforms.Normalize((0.1307,), (0.3081,))\n",
    "])\n",
    "\n",
    "# 下载训练集和测试集\n",
    "trainset = datasets.MNIST(root='./data', train=True, download=False, transform=transform)\n",
    "testset = datasets.MNIST(root='./data', train=False, download=False, transform=transform)"
   ]
  },
  {
   "cell_type": "code",
   "execution_count": 7,
   "metadata": {},
   "outputs": [
    {
     "name": "stdout",
     "output_type": "stream",
     "text": [
      "训练集大小: 60000\n",
      "测试集大小: 10000\n"
     ]
    }
   ],
   "source": [
    "# 加载数据的参数\n",
    "train_batch_size = 64\n",
    "test_batch_size = 1000\n",
    "# 加载训练数据和测试数据\n",
    "trainset1 = torch.utils.data.DataLoader(trainset, batch_size=train_batch_size, shuffle=True)\n",
    "testset1 = torch.utils.data.DataLoader(testset, batch_size=test_batch_size, shuffle=False)\n",
    "# 打印数据集的形状\n",
    "print(f\"训练集大小: {len(trainset1.dataset)}\")\n",
    "print(f\"测试集大小: {len(testset1.dataset)}\")"
   ]
  },
  {
   "cell_type": "code",
   "execution_count": 11,
   "metadata": {},
   "outputs": [
    {
     "name": "stdout",
     "output_type": "stream",
     "text": [
      "准确率: 0.98680\n",
      "              precision    recall  f1-score   support\n",
      "\n",
      "           0       0.99      0.99      0.99       980\n",
      "           1       0.99      1.00      0.99      1135\n",
      "           2       0.98      0.98      0.98      1032\n",
      "           3       0.98      0.99      0.99      1010\n",
      "           4       0.99      0.98      0.99       982\n",
      "           5       0.99      0.99      0.99       892\n",
      "           6       0.99      0.99      0.99       958\n",
      "           7       0.99      0.98      0.98      1028\n",
      "           8       0.98      0.99      0.99       974\n",
      "           9       0.99      0.98      0.98      1009\n",
      "\n",
      "    accuracy                           0.99     10000\n",
      "   macro avg       0.99      0.99      0.99     10000\n",
      "weighted avg       0.99      0.99      0.99     10000\n",
      "\n"
     ]
    }
   ],
   "source": [
    "# 导入库\n",
    "from sklearn.svm import SVC\n",
    "from sklearn.decomposition import PCA\n",
    "from sklearn.metrics import accuracy_score, classification_report\n",
    "from sklearn.model_selection import train_test_split\n",
    "import numpy as np\n",
    "\n",
    "# 将数据转换为numpy数组\n",
    "X_train = trainset.data.numpy().reshape(-1,28*28)\n",
    "y_train = trainset.targets.numpy()\n",
    "X_test = testset.data.numpy().reshape(-1,28*28)\n",
    "y_test = testset.targets.numpy()\n",
    "\n",
    "# 定义PCA模型,对特征向量降维\n",
    "pca = PCA(n_components=50)\n",
    "# 训练PCA模型\n",
    "X_train_pca = pca.fit_transform(X_train)\n",
    "X_test_pca = pca.transform(X_test)\n",
    "\n",
    "# 定义SVM模型\n",
    "svm_clf = SVC(kernel='rbf', C=10, gamma='scale')\n",
    "# 训练SVM模型\n",
    "svm_clf.fit(X_train_pca, y_train)\n",
    "# 预测测试集\n",
    "y_pred = svm_clf.predict(X_test_pca)\n",
    "# 计算准确率\n",
    "accuracy = accuracy_score(y_test, y_pred)\n",
    "print(f\"准确率: {accuracy:.5f}\")\n",
    "print(classification_report(y_test, y_pred))\n"
   ]
  },
  {
   "cell_type": "code",
   "execution_count": null,
   "metadata": {},
   "outputs": [],
   "source": []
  }
 ],
 "metadata": {
  "kernelspec": {
   "display_name": "Python 3",
   "language": "python",
   "name": "python3"
  },
  "language_info": {
   "codemirror_mode": {
    "name": "ipython",
    "version": 3
   },
   "file_extension": ".py",
   "mimetype": "text/x-python",
   "name": "python",
   "nbconvert_exporter": "python",
   "pygments_lexer": "ipython3",
   "version": "3.12.7"
  }
 },
 "nbformat": 4,
 "nbformat_minor": 2
}
