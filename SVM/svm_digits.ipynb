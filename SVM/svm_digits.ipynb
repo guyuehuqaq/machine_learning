{
 "cells": [
  {
   "cell_type": "markdown",
   "metadata": {},
   "source": [
    "#### SVM算法应用于digits/MNIST数据集"
   ]
  },
  {
   "cell_type": "code",
   "execution_count": 6,
   "metadata": {},
   "outputs": [
    {
     "name": "stdout",
     "output_type": "stream",
     "text": [
      "(1797, 64)\n",
      "(1797,)\n"
     ]
    }
   ],
   "source": [
    "# 导入包\n",
    "from sklearn import datasets\n",
    "from sklearn.model_selection import train_test_split\n",
    "from sklearn.preprocessing import StandardScaler\n",
    "from sklearn import svm\n",
    "from sklearn.metrics import accuracy_score, classification_report, confusion_matrix\n",
    "\n",
    "# 加载手写数字数据集digits\n",
    "digits = datasets.load_digits()\n",
    "X, y = digits.data, digits.target\n",
    "print(X.shape)\n",
    "print(y.shape)\n",
    "# 画出其中一幅图\n",
    "# import matplotlib.pyplot as plt\n",
    "# plt.gray()\n",
    "# plt.matshow(digits.images[0])\n",
    "# plt.show()\n"
   ]
  },
  {
   "cell_type": "code",
   "execution_count": 7,
   "metadata": {},
   "outputs": [
    {
     "name": "stdout",
     "output_type": "stream",
     "text": [
      "X_train.shape: (1437, 64)\n",
      "X_test.shape: (360, 64)\n",
      "Accuracy: 0.9805555555555555\n",
      "Classification Report:\n",
      "              precision    recall  f1-score   support\n",
      "\n",
      "           0       1.00      1.00      1.00        33\n",
      "           1       1.00      1.00      1.00        28\n",
      "           2       1.00      1.00      1.00        33\n",
      "           3       1.00      0.97      0.99        34\n",
      "           4       0.96      1.00      0.98        46\n",
      "           5       0.96      0.98      0.97        47\n",
      "           6       0.97      1.00      0.99        35\n",
      "           7       1.00      0.94      0.97        34\n",
      "           8       0.97      0.97      0.97        30\n",
      "           9       0.97      0.95      0.96        40\n",
      "\n",
      "    accuracy                           0.98       360\n",
      "   macro avg       0.98      0.98      0.98       360\n",
      "weighted avg       0.98      0.98      0.98       360\n",
      "\n"
     ]
    }
   ],
   "source": [
    "# 将数据集划分为训练集和测试集\n",
    "X_train, X_test, y_train, y_test = train_test_split(X, y, test_size=0.2, random_state=42)\n",
    "print(\"X_train.shape:\", X_train.shape)\n",
    "print(\"X_test.shape:\", X_test.shape)\n",
    "# 数据标准化\n",
    "scaler = StandardScaler()\n",
    "X_train_std = scaler.fit_transform(X_train)\n",
    "X_test_std = scaler.transform(X_test)  # 修改: 使用transform而不是fit_transform\n",
    "# 创建SVM分类器\n",
    "svm_model = svm.SVC(kernel=\"rbf\", C=1.0, gamma=\"scale\")\n",
    "# 训练模型\n",
    "svm_model.fit(X_train_std, y_train)\n",
    "# 预测测试集\n",
    "y_pred = svm_model.predict(X_test_std)\n",
    "# 计算准确率\n",
    "accuracy = accuracy_score(y_test, y_pred)\n",
    "print(\"Accuracy:\", accuracy)\n",
    "# 打印分类报告\n",
    "print(\"Classification Report:\")\n",
    "print(classification_report(y_test, y_pred))\n",
    "# # 打印混淆矩阵\n",
    "# print(\"Confusion Matrix:\")\n",
    "# print(confusion_matrix(y_test, y_pred))"
   ]
  },
  {
   "cell_type": "code",
   "execution_count": null,
   "metadata": {},
   "outputs": [],
   "source": [
    "# 使用交叉验证方法，寻找SVM模型的最佳参数(超参数调优)\n",
    "from sklearn.model_selection import GridSearchCV\n",
    "# 定义参数网格\n",
    "param_grid = {\n",
    "    'C': [0.1, 1, 10, 20, 100],\n",
    "    'gamma': [1, 0.1, 0.01, 0.001],\n",
    "    'kernel': ['rbf']\n",
    "}\n",
    "# 创建GridSearchCV对象\n",
    "grid_search = GridSearchCV(svm.SVC(), param_grid, refit=True, verbose=2, cv=5)\n",
    "# 训练模型\n",
    "grid_search.fit(X_train_std, y_train)\n",
    "# 输出最佳参数\n",
    "print(\"Best Parameters:\", grid_search.best_params_)\n",
    "# 使用最佳参数预测测试集\n",
    "y_pred_best = grid_search.predict(X_test_std)\n",
    "# 计算准确率\n",
    "accuracy_best = accuracy_score(y_test, y_pred_best)\n",
    "print(\"Accuracy with best parameters:\", accuracy_best)\n",
    "# # 打印分类报告\n",
    "# print(\"Classification Report with best parameters:\")\n",
    "# print(classification_report(y_test, y_pred_best))"
   ]
  },
  {
   "cell_type": "code",
   "execution_count": null,
   "metadata": {},
   "outputs": [],
   "source": []
  }
 ],
 "metadata": {
  "kernelspec": {
   "display_name": "Python 3",
   "language": "python",
   "name": "python3"
  },
  "language_info": {
   "codemirror_mode": {
    "name": "ipython",
    "version": 3
   },
   "file_extension": ".py",
   "mimetype": "text/x-python",
   "name": "python",
   "nbconvert_exporter": "python",
   "pygments_lexer": "ipython3",
   "version": "3.12.7"
  }
 },
 "nbformat": 4,
 "nbformat_minor": 2
}
